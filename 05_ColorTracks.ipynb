{
 "cells": [
  {
   "cell_type": "code",
   "execution_count": 1,
   "metadata": {},
   "outputs": [],
   "source": [
    "\n",
    "import sys\n",
    "\n",
    "import vispy\n",
    "import numpy as np\n",
    "import os\n",
    "from tifffile import imread, imwrite\n",
    "import matplotlib.pyplot as plt\n",
    "import napari\n",
    "import napatrackmater.bTrackmate as TM\n",
    "from pathlib import Path\n",
    "%gui qt\n",
    "vispy.util.config['gl_debug']=True"
   ]
  },
  {
   "cell_type": "code",
   "execution_count": 2,
   "metadata": {},
   "outputs": [],
   "source": [
    "#Trackmate writes an XML file of tracks, we use it as input\n",
    "xml_path = '/Users/aimachine/CBIAS-Demo/Results/DUP_Cell.xml'\n",
    "#Path to Segmentation image for extracting any track information from labels \n",
    "LabelImage ='/Users/aimachine/CBIAS-Demo/CellSegmentation.tif'\n",
    "#Trackmate writes a spots and tracks file as csv\n",
    "spot_csv = '/Users/aimachine/CBIAS-Demo/Results/spots.csv'\n",
    "track_csv = '/Users/aimachine/CBIAS-Demo/Results/tracks.csv'\n",
    "savedir = '/Users/aimachine/CBIAS-Demo/Results/'\n",
    "Path(savedir).mkdir(exist_ok=True)\n",
    "scale = 255"
   ]
  },
  {
   "cell_type": "code",
   "execution_count": 3,
   "metadata": {
    "scrolled": false
   },
   "outputs": [
    {
     "name": "stderr",
     "output_type": "stream",
     "text": [
      "<tifffile.TiffPage 0 @8> imagej_metadata failed with ValueError: The truth value of an array with more than one element is ambiguous. Use a.any() or a.all()\n"
     ]
    },
    {
     "name": "stdout",
     "output_type": "stream",
     "text": [
      "Reading Image\n",
      "Image dimensions: (74, 22, 538, 506)\n"
     ]
    },
    {
     "name": "stderr",
     "output_type": "stream",
     "text": [
      "100%|██████████████████████████████████████████████████████████████████████████████████████████████████████████████████████████████████████████████████████████| 18/18 [00:00<00:00, 29273.93it/s]\n",
      "100%|███████████████████████████████████████████████████████████████████████████████████████████████████████████████████████████████████████████████████████| 907/907 [00:00<00:00, 526975.17it/s]\n"
     ]
    },
    {
     "name": "stdout",
     "output_type": "stream",
     "text": [
      "Relabelling image with chosen trackmate attribute\n"
     ]
    },
    {
     "name": "stderr",
     "output_type": "stream",
     "text": [
      "100%|█████████████████████████████████████████████████████████████████████████████████████████████████████████████████████████████████████████████████████████████| 74/74 [00:10<00:00,  7.23it/s]\n"
     ]
    }
   ],
   "source": [
    "TM.import_TM_XML_Relabel(xml_path,LabelImage,spot_csv, track_csv, savedir, scale = scale)"
   ]
  },
  {
   "cell_type": "code",
   "execution_count": null,
   "metadata": {},
   "outputs": [],
   "source": []
  },
  {
   "cell_type": "code",
   "execution_count": null,
   "metadata": {},
   "outputs": [],
   "source": []
  }
 ],
 "metadata": {
  "kernelspec": {
   "display_name": "Python [conda env:NapariTrack]",
   "language": "python",
   "name": "conda-env-NapariTrack-py"
  },
  "language_info": {
   "codemirror_mode": {
    "name": "ipython",
    "version": 3
   },
   "file_extension": ".py",
   "mimetype": "text/x-python",
   "name": "python",
   "nbconvert_exporter": "python",
   "pygments_lexer": "ipython3",
   "version": "3.9.7"
  }
 },
 "nbformat": 4,
 "nbformat_minor": 4
}
